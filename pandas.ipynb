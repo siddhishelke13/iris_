{
 "cells": [
  {
   "cell_type": "code",
   "execution_count": 1,
   "id": "463cb28d",
   "metadata": {},
   "outputs": [
    {
     "name": "stderr",
     "output_type": "stream",
     "text": [
      "C:\\Users\\HOME\\anaconda3\\lib\\site-packages\\scipy\\__init__.py:146: UserWarning: A NumPy version >=1.16.5 and <1.23.0 is required for this version of SciPy (detected version 1.23.4\n",
      "  warnings.warn(f\"A NumPy version >={np_minversion} and <{np_maxversion}\"\n"
     ]
    }
   ],
   "source": [
    "from sklearn import datasets"
   ]
  },
  {
   "cell_type": "code",
   "execution_count": 2,
   "id": "2e40bee0",
   "metadata": {},
   "outputs": [],
   "source": [
    "iris_dataset = datasets.load_iris()"
   ]
  },
  {
   "cell_type": "code",
   "execution_count": 3,
   "id": "69373012",
   "metadata": {},
   "outputs": [],
   "source": [
    "X = iris_dataset.data[:,:2]"
   ]
  },
  {
   "cell_type": "code",
   "execution_count": 4,
   "id": "bc9f24fd",
   "metadata": {},
   "outputs": [],
   "source": [
    "x_count = len(X.flat)\n",
    "x_min = X[:,0].min() - .5\n",
    "x_max = X[:,0].max() + .5\n",
    "x_mean = X[:,0].mean()"
   ]
  },
  {
   "cell_type": "code",
   "execution_count": 5,
   "id": "e0c66108",
   "metadata": {},
   "outputs": [
    {
     "data": {
      "text/plain": [
       "(300, 3.8, 8.4, 5.843333333333334)"
      ]
     },
     "execution_count": 5,
     "metadata": {},
     "output_type": "execute_result"
    }
   ],
   "source": [
    "x_count ,x_min ,x_max ,x_mean"
   ]
  },
  {
   "cell_type": "code",
   "execution_count": null,
   "id": "dc0d8cc0",
   "metadata": {},
   "outputs": [],
   "source": []
  },
  {
   "cell_type": "code",
   "execution_count": null,
   "id": "c6afa2b0",
   "metadata": {},
   "outputs": [],
   "source": []
  }
 ],
 "metadata": {
  "kernelspec": {
   "display_name": "Python 3 (ipykernel)",
   "language": "python",
   "name": "python3"
  },
  "language_info": {
   "codemirror_mode": {
    "name": "ipython",
    "version": 3
   },
   "file_extension": ".py",
   "mimetype": "text/x-python",
   "name": "python",
   "nbconvert_exporter": "python",
   "pygments_lexer": "ipython3",
   "version": "3.9.12"
  }
 },
 "nbformat": 4,
 "nbformat_minor": 5
}
